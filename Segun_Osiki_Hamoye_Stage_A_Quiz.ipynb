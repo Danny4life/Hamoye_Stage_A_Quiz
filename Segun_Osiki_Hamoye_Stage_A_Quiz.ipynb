{
 "cells": [
  {
   "cell_type": "markdown",
   "metadata": {},
   "source": [
    "## Import Libriaries"
   ]
  },
  {
   "cell_type": "code",
   "execution_count": 83,
   "metadata": {},
   "outputs": [],
   "source": [
    "import numpy as np\n",
    "import pandas as pd\n",
    "import matplotlib.pyplot as plt\n",
    "import seaborn as sns\n",
    "\n",
    "%matplotlib inline"
   ]
  },
  {
   "cell_type": "markdown",
   "metadata": {},
   "source": [
    "## Read in the fuel data"
   ]
  },
  {
   "cell_type": "code",
   "execution_count": 71,
   "metadata": {},
   "outputs": [],
   "source": [
    "# The fuel data url was read in and converted to data.csv\n",
    "fuel_data = pd.read_csv('data.csv')"
   ]
  },
  {
   "cell_type": "code",
   "execution_count": 72,
   "metadata": {},
   "outputs": [
    {
     "data": {
      "text/html": [
       "<div>\n",
       "<style scoped>\n",
       "    .dataframe tbody tr th:only-of-type {\n",
       "        vertical-align: middle;\n",
       "    }\n",
       "\n",
       "    .dataframe tbody tr th {\n",
       "        vertical-align: top;\n",
       "    }\n",
       "\n",
       "    .dataframe thead th {\n",
       "        text-align: right;\n",
       "    }\n",
       "</style>\n",
       "<table border=\"1\" class=\"dataframe\">\n",
       "  <thead>\n",
       "    <tr style=\"text-align: right;\">\n",
       "      <th></th>\n",
       "      <th>0</th>\n",
       "      <th>1</th>\n",
       "      <th>2</th>\n",
       "      <th>3</th>\n",
       "      <th>4</th>\n",
       "    </tr>\n",
       "  </thead>\n",
       "  <tbody>\n",
       "    <tr>\n",
       "      <th>record_id</th>\n",
       "      <td>f1_fuel_1994_12_1_0_7</td>\n",
       "      <td>f1_fuel_1994_12_1_0_10</td>\n",
       "      <td>f1_fuel_1994_12_2_0_1</td>\n",
       "      <td>f1_fuel_1994_12_2_0_7</td>\n",
       "      <td>f1_fuel_1994_12_2_0_10</td>\n",
       "    </tr>\n",
       "    <tr>\n",
       "      <th>utility_id_ferc1</th>\n",
       "      <td>1</td>\n",
       "      <td>1</td>\n",
       "      <td>2</td>\n",
       "      <td>2</td>\n",
       "      <td>2</td>\n",
       "    </tr>\n",
       "    <tr>\n",
       "      <th>report_year</th>\n",
       "      <td>1994</td>\n",
       "      <td>1994</td>\n",
       "      <td>1994</td>\n",
       "      <td>1994</td>\n",
       "      <td>1994</td>\n",
       "    </tr>\n",
       "    <tr>\n",
       "      <th>plant_name_ferc1</th>\n",
       "      <td>rockport</td>\n",
       "      <td>rockport total plant</td>\n",
       "      <td>gorgas</td>\n",
       "      <td>barry</td>\n",
       "      <td>chickasaw</td>\n",
       "    </tr>\n",
       "    <tr>\n",
       "      <th>fuel_type_code_pudl</th>\n",
       "      <td>coal</td>\n",
       "      <td>coal</td>\n",
       "      <td>coal</td>\n",
       "      <td>coal</td>\n",
       "      <td>gas</td>\n",
       "    </tr>\n",
       "    <tr>\n",
       "      <th>fuel_unit</th>\n",
       "      <td>ton</td>\n",
       "      <td>ton</td>\n",
       "      <td>ton</td>\n",
       "      <td>ton</td>\n",
       "      <td>mcf</td>\n",
       "    </tr>\n",
       "    <tr>\n",
       "      <th>fuel_qty_burned</th>\n",
       "      <td>5.37749e+06</td>\n",
       "      <td>1.04869e+07</td>\n",
       "      <td>2.97868e+06</td>\n",
       "      <td>3.73948e+06</td>\n",
       "      <td>40533</td>\n",
       "    </tr>\n",
       "    <tr>\n",
       "      <th>fuel_mmbtu_per_unit</th>\n",
       "      <td>16.59</td>\n",
       "      <td>16.592</td>\n",
       "      <td>24.13</td>\n",
       "      <td>23.95</td>\n",
       "      <td>1</td>\n",
       "    </tr>\n",
       "    <tr>\n",
       "      <th>fuel_cost_per_unit_burned</th>\n",
       "      <td>18.59</td>\n",
       "      <td>18.58</td>\n",
       "      <td>39.72</td>\n",
       "      <td>47.21</td>\n",
       "      <td>2.77</td>\n",
       "    </tr>\n",
       "    <tr>\n",
       "      <th>fuel_cost_per_unit_delivered</th>\n",
       "      <td>18.53</td>\n",
       "      <td>18.53</td>\n",
       "      <td>38.12</td>\n",
       "      <td>45.99</td>\n",
       "      <td>2.77</td>\n",
       "    </tr>\n",
       "    <tr>\n",
       "      <th>fuel_cost_per_mmbtu</th>\n",
       "      <td>1.121</td>\n",
       "      <td>1.12</td>\n",
       "      <td>1.65</td>\n",
       "      <td>1.97</td>\n",
       "      <td>2.57</td>\n",
       "    </tr>\n",
       "  </tbody>\n",
       "</table>\n",
       "</div>"
      ],
      "text/plain": [
       "                                                  0                       1  \\\n",
       "record_id                     f1_fuel_1994_12_1_0_7  f1_fuel_1994_12_1_0_10   \n",
       "utility_id_ferc1                                  1                       1   \n",
       "report_year                                    1994                    1994   \n",
       "plant_name_ferc1                           rockport    rockport total plant   \n",
       "fuel_type_code_pudl                            coal                    coal   \n",
       "fuel_unit                                       ton                     ton   \n",
       "fuel_qty_burned                         5.37749e+06             1.04869e+07   \n",
       "fuel_mmbtu_per_unit                           16.59                  16.592   \n",
       "fuel_cost_per_unit_burned                     18.59                   18.58   \n",
       "fuel_cost_per_unit_delivered                  18.53                   18.53   \n",
       "fuel_cost_per_mmbtu                           1.121                    1.12   \n",
       "\n",
       "                                                  2                      3  \\\n",
       "record_id                     f1_fuel_1994_12_2_0_1  f1_fuel_1994_12_2_0_7   \n",
       "utility_id_ferc1                                  2                      2   \n",
       "report_year                                    1994                   1994   \n",
       "plant_name_ferc1                             gorgas                  barry   \n",
       "fuel_type_code_pudl                            coal                   coal   \n",
       "fuel_unit                                       ton                    ton   \n",
       "fuel_qty_burned                         2.97868e+06            3.73948e+06   \n",
       "fuel_mmbtu_per_unit                           24.13                  23.95   \n",
       "fuel_cost_per_unit_burned                     39.72                  47.21   \n",
       "fuel_cost_per_unit_delivered                  38.12                  45.99   \n",
       "fuel_cost_per_mmbtu                            1.65                   1.97   \n",
       "\n",
       "                                                   4  \n",
       "record_id                     f1_fuel_1994_12_2_0_10  \n",
       "utility_id_ferc1                                   2  \n",
       "report_year                                     1994  \n",
       "plant_name_ferc1                           chickasaw  \n",
       "fuel_type_code_pudl                              gas  \n",
       "fuel_unit                                        mcf  \n",
       "fuel_qty_burned                                40533  \n",
       "fuel_mmbtu_per_unit                                1  \n",
       "fuel_cost_per_unit_burned                       2.77  \n",
       "fuel_cost_per_unit_delivered                    2.77  \n",
       "fuel_cost_per_mmbtu                             2.57  "
      ]
     },
     "execution_count": 72,
     "metadata": {},
     "output_type": "execute_result"
    }
   ],
   "source": [
    "fuel_data.head().T"
   ]
  },
  {
   "cell_type": "markdown",
   "metadata": {},
   "source": [
    "### Question 1"
   ]
  },
  {
   "cell_type": "code",
   "execution_count": 4,
   "metadata": {},
   "outputs": [
    {
     "name": "stdout",
     "output_type": "stream",
     "text": [
      "[1, 2, 3, 4, 5, 6, 13, 21, 34]\n"
     ]
    }
   ],
   "source": [
    "A = [1,2,3,4,5,6]\n",
    "B = [13, 21, 34]\n",
    "\n",
    "A.extend(B)\n",
    "\n",
    "print(A)"
   ]
  },
  {
   "cell_type": "markdown",
   "metadata": {},
   "source": [
    "## Question 2\n",
    "\n",
    "**How do you create an identity matrix in python?**"
   ]
  },
  {
   "cell_type": "code",
   "execution_count": 5,
   "metadata": {},
   "outputs": [
    {
     "name": "stdout",
     "output_type": "stream",
     "text": [
      "[[1. 0. 0.]\n",
      " [0. 1. 0.]\n",
      " [0. 0. 1.]]\n"
     ]
    }
   ],
   "source": [
    "print(np.identity(3))"
   ]
  },
  {
   "cell_type": "markdown",
   "metadata": {},
   "source": [
    "## Question 3\n",
    "\n",
    "**Which of the following fuel type code has the lowest average fuel cost per unit burned?**"
   ]
  },
  {
   "cell_type": "code",
   "execution_count": 98,
   "metadata": {},
   "outputs": [
    {
     "name": "stderr",
     "output_type": "stream",
     "text": [
      "C:\\Users\\SEGUN\\anaconda3\\lib\\site-packages\\ipykernel_launcher.py:4: DeprecationWarning: The default dtype for empty Series will be 'object' instead of 'float64' in a future version. Specify a dtype explicitly to silence this warning.\n",
      "  after removing the cwd from sys.path.\n"
     ]
    },
    {
     "name": "stdout",
     "output_type": "stream",
     "text": [
      "fuel_cost_per_unit_burned    67.42183\n",
      "dtype: float64\n",
      "fuel_cost_per_unit_burned    13.659397\n",
      "dtype: float64\n",
      "fuel_cost_per_unit_burned    4955.157002\n",
      "dtype: float64\n",
      "fuel_cost_per_unit_burned    168.877086\n",
      "dtype: float64\n",
      "fuel_cost_per_unit_burned    19.518122\n",
      "dtype: float64\n",
      "fuel_cost_per_unit_burned    18.253856\n",
      "dtype: float64\n"
     ]
    },
    {
     "data": {
      "text/html": [
       "<div>\n",
       "<style scoped>\n",
       "    .dataframe tbody tr th:only-of-type {\n",
       "        vertical-align: middle;\n",
       "    }\n",
       "\n",
       "    .dataframe tbody tr th {\n",
       "        vertical-align: top;\n",
       "    }\n",
       "\n",
       "    .dataframe thead th {\n",
       "        text-align: right;\n",
       "    }\n",
       "</style>\n",
       "<table border=\"1\" class=\"dataframe\">\n",
       "  <thead>\n",
       "    <tr style=\"text-align: right;\">\n",
       "      <th></th>\n",
       "      <th>lowest average fuel cost per unit burned</th>\n",
       "    </tr>\n",
       "  </thead>\n",
       "  <tbody>\n",
       "    <tr>\n",
       "      <th>coal</th>\n",
       "      <td>67.421830</td>\n",
       "    </tr>\n",
       "    <tr>\n",
       "      <th>gas</th>\n",
       "      <td>13.659397</td>\n",
       "    </tr>\n",
       "    <tr>\n",
       "      <th>nuclear</th>\n",
       "      <td>4955.157002</td>\n",
       "    </tr>\n",
       "    <tr>\n",
       "      <th>oil</th>\n",
       "      <td>168.877086</td>\n",
       "    </tr>\n",
       "    <tr>\n",
       "      <th>waste</th>\n",
       "      <td>19.518122</td>\n",
       "    </tr>\n",
       "    <tr>\n",
       "      <th>other</th>\n",
       "      <td>18.253856</td>\n",
       "    </tr>\n",
       "  </tbody>\n",
       "</table>\n",
       "</div>"
      ],
      "text/plain": [
       "         lowest average fuel cost per unit burned\n",
       "coal                                    67.421830\n",
       "gas                                     13.659397\n",
       "nuclear                               4955.157002\n",
       "oil                                    168.877086\n",
       "waste                                   19.518122\n",
       "other                                   18.253856"
      ]
     },
     "execution_count": 98,
     "metadata": {},
     "output_type": "execute_result"
    }
   ],
   "source": [
    "df = fuel_data[['fuel_type_code_pudl', 'fuel_cost_per_unit_burned']]\n",
    "fuel_types = fuel_data['fuel_type_code_pudl'].unique()\n",
    "\n",
    "low_average = pd.Series()\n",
    "\n",
    "for i in range(6):\n",
    "    print(df[fuel_data['fuel_type_code_pudl']  == fuel_types[i]].mean())\n",
    "    low_average = low_average.append(df[fuel_data['fuel_type_code_pudl'] == fuel_types[i]].mean())\n",
    "    \n",
    "\n",
    "# create a dataframe    \n",
    "low_average = low_average.to_frame()\n",
    "low_average.set_index(fuel_types, inplace=True)\n",
    "low_average.columns=['lowest average fuel cost per unit burned']\n",
    "low_average\n"
   ]
  },
  {
   "cell_type": "markdown",
   "metadata": {},
   "source": [
    "## Question 4\n",
    "\n",
    "**What is the standard deviation and 75th percentile of the measure of energy per unit (Fuel_mmbtu_per_unit) in two decimal places?**"
   ]
  },
  {
   "cell_type": "code",
   "execution_count": 101,
   "metadata": {},
   "outputs": [],
   "source": [
    "measure_per_unit = fuel_data.describe()['fuel_mmbtu_per_unit']"
   ]
  },
  {
   "cell_type": "code",
   "execution_count": 102,
   "metadata": {},
   "outputs": [
    {
     "name": "stdout",
     "output_type": "stream",
     "text": [
      "The std is:10.60\n",
      "\n",
      "\n",
      "The 75th percentile is: 17.01\n"
     ]
    }
   ],
   "source": [
    "print(f'The std is:%.2f' % measure_per_unit[2])\n",
    "print('\\n')\n",
    "print(f'The 75th percentile is: {measure_per_unit[6].round(2)}')"
   ]
  },
  {
   "cell_type": "markdown",
   "metadata": {},
   "source": [
    "## Question 5\n",
    "\n",
    "**What is the skewness and kurtosis for the fuel quantity burned in two decimal places?**"
   ]
  },
  {
   "cell_type": "code",
   "execution_count": 79,
   "metadata": {},
   "outputs": [
    {
     "name": "stdout",
     "output_type": "stream",
     "text": [
      "The Skew is:15.85\n",
      "\n",
      "\n",
      "The Kurtosis is:651.37\n"
     ]
    }
   ],
   "source": [
    "print(f'The Skew is:{fuel_data.skew()[2].round(2)}')\n",
    "print('\\n')\n",
    "print(f'The Kurtosis is:{fuel_data.kurtosis()[2].round(2)}')"
   ]
  },
  {
   "cell_type": "markdown",
   "metadata": {},
   "source": [
    "## Question 6\n",
    "\n",
    "**Which feature has missing values and what is the total number of missing value and percentage of the missing rows as a factor of the total number of rows in three decimal places?**\n",
    "\n",
    "(Enter answer in the format: Feature: xxx, Total: xxx, Percent: xxx)\n"
   ]
  },
  {
   "cell_type": "markdown",
   "metadata": {},
   "source": [
    "#### Answer: Feature: fuel_unit, Total: 180, Percent: 0.61)"
   ]
  },
  {
   "cell_type": "markdown",
   "metadata": {},
   "source": [
    "## Question 7\n",
    "\n",
    "**The feature with missing values falls under what category? What missing value imputation technique would you use?**"
   ]
  },
  {
   "cell_type": "markdown",
   "metadata": {},
   "source": [
    "#### Answer: Categorical and mode inputation"
   ]
  },
  {
   "cell_type": "markdown",
   "metadata": {},
   "source": [
    "## Question 8\n",
    "\n",
    "**Which of the features has the second and third lowest correlation with the Fuel Cost Per Unit Burned?**"
   ]
  },
  {
   "cell_type": "code",
   "execution_count": 82,
   "metadata": {},
   "outputs": [
    {
     "data": {
      "text/plain": [
       "utility_id_ferc1               -0.037863\n",
       "fuel_qty_burned                -0.018535\n",
       "fuel_mmbtu_per_unit            -0.010034\n",
       "fuel_cost_per_mmbtu            -0.000437\n",
       "fuel_cost_per_unit_delivered    0.011007\n",
       "report_year                     0.013599\n",
       "fuel_cost_per_unit_burned       1.000000\n",
       "Name: fuel_cost_per_unit_burned, dtype: float64"
      ]
     },
     "execution_count": 82,
     "metadata": {},
     "output_type": "execute_result"
    }
   ],
   "source": [
    "fuel_data.corr().loc['fuel_cost_per_unit_burned'].sort_values(ascending=True)\n"
   ]
  },
  {
   "cell_type": "markdown",
   "metadata": {},
   "source": [
    "#### Answer: fuel_qty_burned, fuel_mmbtu_per_unit"
   ]
  },
  {
   "cell_type": "code",
   "execution_count": 85,
   "metadata": {},
   "outputs": [
    {
     "data": {
      "image/png": "[encoded data removed]",
      "text/plain": [
       "<Figure size 720x432 with 2 Axes>"
      ]
     },
     "metadata": {
      "needs_background": "light"
     },
     "output_type": "display_data"
    }
   ],
   "source": [
    "# let's visualize the two lowest features using heatmap\n",
    "corrmat = fuel_data.corr()\n",
    "\n",
    "fig, ax = plt.subplots(figsize=(10, 6))\n",
    "sns.heatmap(corrmat, square=True);"
   ]
  },
  {
   "cell_type": "markdown",
   "metadata": {},
   "source": [
    "## Question 9\n",
    "\n",
    "**For the fuel type coal, what is the percentage change in the fuel cost per unit burned in 1998 compared to 1994?**"
   ]
  },
  {
   "cell_type": "code",
   "execution_count": 96,
   "metadata": {},
   "outputs": [
    {
     "name": "stdout",
     "output_type": "stream",
     "text": [
      "-0.20060180541624875\n"
     ]
    }
   ],
   "source": [
    "fuel_type_code_unique = fuel_data.groupby(['report_year', 'fuel_type_code_pudl'])['fuel_cost_per_unit_burned'].sum()\n",
    "\n",
    "year_1994, year_1998 = fuel_type_code_unique.loc[[1994, 1998], 'coal']\n",
    "\n",
    "# Find percentage change\n",
    "perc_change = ((1994 - 1998) / 1994) * 100\n",
    "\n",
    "print(perc_change)"
   ]
  },
  {
   "cell_type": "markdown",
   "metadata": {},
   "source": [
    "## Question 10\n",
    "\n",
    "**Which year has the highest average fuel cost per unit delivered?**\n",
    "\n",
    "#### Answer: 1997"
   ]
  },
  {
   "cell_type": "code",
   "execution_count": 97,
   "metadata": {},
   "outputs": [
    {
     "data": {
      "text/plain": [
       "report_year\n",
       "1999       25.551627\n",
       "1995       32.735269\n",
       "2006       38.657484\n",
       "2005       41.438184\n",
       "2007       43.325023\n",
       "2017       46.196861\n",
       "2002       47.594361\n",
       "2003       55.663493\n",
       "2008       58.588197\n",
       "2011       59.774667\n",
       "2001       60.050396\n",
       "2012       60.994502\n",
       "1994       63.636060\n",
       "2010       91.862105\n",
       "2016      103.901761\n",
       "2004      139.524275\n",
       "2013      172.307591\n",
       "2014      192.737183\n",
       "1998      287.154420\n",
       "2015      326.535511\n",
       "2018      499.269966\n",
       "2009      652.694163\n",
       "2000      985.362877\n",
       "1996     9196.705948\n",
       "1997    11140.197239\n",
       "Name: fuel_cost_per_unit_delivered, dtype: float64"
      ]
     },
     "execution_count": 97,
     "metadata": {},
     "output_type": "execute_result"
    }
   ],
   "source": [
    "fuel_data.groupby('report_year')['fuel_cost_per_unit_delivered'].mean().sort_values(ascending=True)\n"
   ]
  },
  {
   "cell_type": "code",
   "execution_count": null,
   "metadata": {},
   "outputs": [],
   "source": []
  }
 ],
 "metadata": {
  "kernelspec": {
   "display_name": "Python 3",
   "language": "python",
   "name": "python3"
  },
  "language_info": {
   "codemirror_mode": {
    "name": "ipython",
    "version": 3
   },
   "file_extension": ".py",
   "mimetype": "text/x-python",
   "name": "python",
   "nbconvert_exporter": "python",
   "pygments_lexer": "ipython3",
   "version": "3.7.6"
  }
 },
 "nbformat": 4,
 "nbformat_minor": 4
}
